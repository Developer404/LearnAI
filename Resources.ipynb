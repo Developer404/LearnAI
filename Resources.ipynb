{
 "cells": [
  {
   "cell_type": "markdown",
   "metadata": {},
   "source": [
    "# Learn AI \n",
    "\n",
    "Commit yourself to spend atleast one hour for these courses. Building discipline is hard but is very important in your learning journey"
   ]
  },
  {
   "cell_type": "markdown",
   "metadata": {},
   "source": [
    "### Python\n",
    "\n",
    "Python is the language commonly used for Machine Learning. Its easy, readable and lets you focus on the problem than the syntax. So, Python is a great choice and we'll go with that.\n",
    "\n",
    "Resources: \n",
    "\n",
    "* Papa Python(aka Qazi) has a great course on basics of python. I like this course because it has fun projects: [Link](https://www.cleverprogrammer.com/learn-python) \n",
    "    He also has some Python videos on his [YouTube channel](https://www.youtube.com/channel/UCqrILQNl5Ed9Dz6CGMyvMTQ) (Free) \n",
    "* [Codecademy](https://www.codecademy.com/learn/learn-python) (Free)\n",
    "\n",
    "You only need basic python syntax to do Machine Learning!"
   ]
  },
  {
   "cell_type": "markdown",
   "metadata": {},
   "source": [
    "### Deep Learning\n",
    "\n",
    "99.9% of the time when you're working on an AI project, Neural Networks outperform every other machine learning model which is why its important for you to focus on Deep Learning. The knowledge of other machine learning models is also good for you.\n",
    "\n",
    "Resources: \n",
    "\n",
    "* [My videos](https://www.youtube.com/channel/UCFViGhziBdf6BDYIkeQeqQw) (Free)\n",
    "* [Udacity's Deep Learning nanodegree](https://www.udacity.com/course/deep-learning-nanodegree--nd101) (Paid)\n",
    "* [Deep Learning Specialization](https://www.coursera.org/specializations/deep-learning) (Paid)\n",
    "* [Siraj Raval](https://www.youtube.com/channel/UCWN3xxRkmTPmbKwht9FuE5A) (Free)\n",
    "* [Fast.ai](fast.ai) (Free)\n",
    "\n",
    "#### Computer Vision \n",
    "\n",
    "Here's a great resource for learning Computer Vision: https://www.pyimagesearch.com/ (Free)\n"
   ]
  },
  {
   "cell_type": "markdown",
   "metadata": {},
   "source": [
    "Checkout Daniel's article on learning Artificial Intelligence who followed the path in his article and became a Machine Learning Engineer. \n",
    "\n",
    "You.read(\"https://mrdbourke.com/blog/aimastersdegree\")"
   ]
  },
  {
   "cell_type": "markdown",
   "metadata": {},
   "source": [
    "#### Mathematics for Deep Learning?\n",
    "\n",
    "You don't actually need high-level knowledge of Math to do Deep Learning but you do need to know a bit of Math just enough to understand what is going on but Its not necessary to know how to calculate derivatives and stuff. The first course (In the Deep Learning Specialization) builds it totally from scratch so, you can get a bit of what is going on behind the scenes (Equations are provided) I don't know a lot of math. I'm going to study it soon but for now my intuition is enough to guide me through a project\n",
    "\n",
    "Here are some resources that I'm planning to use once I finish the Specialization:\n",
    "\n",
    "* Think Stats by Allen Downey: http://greenteapress.com/thinkstats/thinkstats.pdf\n",
    "* An Introduction to Statistical Learning: With Applications in R: https://www-bcf.usc.edu/~gareth/ISL/ISLR%20Sixth%20Printing.pdf\n",
    "* http://deeplearningbook.org"
   ]
  },
  {
   "cell_type": "markdown",
   "metadata": {},
   "source": [
    "### Machine Learning\n",
    "\n",
    "Knowledge about other Machine Learning models is also good so, this udacity course is a great course for it:P https://www.udacity.com/course/intro-to-machine-learning--ud120 (Free)\n"
    "Checkout this kaggle course: https://www.kaggle.com/learn/intro-to-machine-learning and https://www.kaggle.com/learn/intermediate-machine-learning (Free) \n"
   ]
  },
  {
   "cell_type": "code",
   "execution_count": 1,
   "metadata": {},
   "outputs": [
    {
     "name": "stdout",
     "output_type": "stream",
     "text": [
      "All the best!\n",
      "Get started now\n"
     ]
    }
   ],
   "source": [
    "print(\"All the best!\")\n",
    "print(\"Get started now\")"
   ]
  }
 ],
 "metadata": {
  "kernelspec": {
   "display_name": "Python 3",
   "language": "python",
   "name": "python3"
  },
  "language_info": {
   "codemirror_mode": {
    "name": "ipython",
    "version": 3
   },
   "file_extension": ".py",
   "mimetype": "text/x-python",
   "name": "python",
   "nbconvert_exporter": "python",
   "pygments_lexer": "ipython3",
   "version": "3.7.2"
  }
 },
 "nbformat": 4,
 "nbformat_minor": 2
}
